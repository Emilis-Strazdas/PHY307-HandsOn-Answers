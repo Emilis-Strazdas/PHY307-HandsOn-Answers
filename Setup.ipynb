{
 "cells": [
  {
   "cell_type": "code",
   "execution_count": null,
   "id": "c8ad2b6a-2857-48df-a280-780a649b2bc9",
   "metadata": {
    "tags": []
   },
   "outputs": [],
   "source": [
    "%pip install numpy\n",
    "%pip install uproot awkward\n",
    "%pip install boost-histogram\n",
    "%pip install vector\n",
    "%pip install numba\n",
    "%pip install mplhep\n"
   ]
  },
  {
   "cell_type": "code",
   "execution_count": null,
   "id": "bf0070e5-50ee-40ce-9ca4-d7405caa9857",
   "metadata": {},
   "outputs": [],
   "source": [
    "import uproot"
   ]
  },
  {
   "cell_type": "code",
   "execution_count": null,
   "id": "e5cf7c4b-b085-444e-ae57-8aa718b27770",
   "metadata": {},
   "outputs": [],
   "source": []
  }
 ],
 "metadata": {
  "kernelspec": {
   "display_name": "Python 3 (ipykernel)",
   "language": "python",
   "name": "python3"
  },
  "language_info": {
   "codemirror_mode": {
    "name": "ipython",
    "version": 3
   },
   "file_extension": ".py",
   "mimetype": "text/x-python",
   "name": "python",
   "nbconvert_exporter": "python",
   "pygments_lexer": "ipython3",
   "version": "3.12.3"
  }
 },
 "nbformat": 4,
 "nbformat_minor": 5
}
