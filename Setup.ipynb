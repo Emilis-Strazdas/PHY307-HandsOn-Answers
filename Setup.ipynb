{
 "cells": [
  {
   "cell_type": "code",
   "execution_count": 1,
   "id": "c8ad2b6a-2857-48df-a280-780a649b2bc9",
   "metadata": {},
   "outputs": [
    {
     "name": "stdout",
     "output_type": "stream",
     "text": [
      "Requirement already satisfied: uproot in /Users/Andrew/Library/jupyterlab-desktop/jlab_server/lib/python3.8/site-packages (5.0.7)\n",
      "Requirement already satisfied: awkward in /Users/Andrew/Library/jupyterlab-desktop/jlab_server/lib/python3.8/site-packages (2.2.1)\n",
      "Requirement already satisfied: numpy in /Users/Andrew/Library/jupyterlab-desktop/jlab_server/lib/python3.8/site-packages (from uproot) (1.24.3)\n",
      "Requirement already satisfied: packaging in /Users/Andrew/Library/jupyterlab-desktop/jlab_server/lib/python3.8/site-packages (from uproot) (23.1)\n",
      "Requirement already satisfied: awkward-cpp==15 in /Users/Andrew/Library/jupyterlab-desktop/jlab_server/lib/python3.8/site-packages (from awkward) (15)\n",
      "Requirement already satisfied: importlib-resources in /Users/Andrew/Library/jupyterlab-desktop/jlab_server/lib/python3.8/site-packages (from awkward) (5.12.0)\n",
      "Requirement already satisfied: typing-extensions>=4.1.0 in /Users/Andrew/Library/jupyterlab-desktop/jlab_server/lib/python3.8/site-packages (from awkward) (4.5.0)\n",
      "Requirement already satisfied: zipp>=3.1.0 in /Users/Andrew/Library/jupyterlab-desktop/jlab_server/lib/python3.8/site-packages (from importlib-resources->awkward) (3.15.0)\n",
      "Note: you may need to restart the kernel to use updated packages.\n",
      "Requirement already satisfied: boost-histogram in /Users/Andrew/Library/jupyterlab-desktop/jlab_server/lib/python3.8/site-packages (1.3.2)\n",
      "Requirement already satisfied: numpy>=1.13.3 in /Users/Andrew/Library/jupyterlab-desktop/jlab_server/lib/python3.8/site-packages (from boost-histogram) (1.24.3)\n",
      "Note: you may need to restart the kernel to use updated packages.\n",
      "Requirement already satisfied: vector in /Users/Andrew/Library/jupyterlab-desktop/jlab_server/lib/python3.8/site-packages (1.0.0)\n",
      "Requirement already satisfied: numpy>=1.13.3 in /Users/Andrew/Library/jupyterlab-desktop/jlab_server/lib/python3.8/site-packages (from vector) (1.24.3)\n",
      "Requirement already satisfied: packaging>=19 in /Users/Andrew/Library/jupyterlab-desktop/jlab_server/lib/python3.8/site-packages (from vector) (23.1)\n",
      "Note: you may need to restart the kernel to use updated packages.\n",
      "Requirement already satisfied: numba in /Users/Andrew/Library/jupyterlab-desktop/jlab_server/lib/python3.8/site-packages (0.57.0)\n",
      "Requirement already satisfied: llvmlite<0.41,>=0.40.0dev0 in /Users/Andrew/Library/jupyterlab-desktop/jlab_server/lib/python3.8/site-packages (from numba) (0.40.0)\n",
      "Requirement already satisfied: numpy<1.25,>=1.21 in /Users/Andrew/Library/jupyterlab-desktop/jlab_server/lib/python3.8/site-packages (from numba) (1.24.3)\n",
      "Requirement already satisfied: importlib-metadata in /Users/Andrew/Library/jupyterlab-desktop/jlab_server/lib/python3.8/site-packages (from numba) (6.6.0)\n",
      "Requirement already satisfied: zipp>=0.5 in /Users/Andrew/Library/jupyterlab-desktop/jlab_server/lib/python3.8/site-packages (from importlib-metadata->numba) (3.15.0)\n",
      "Note: you may need to restart the kernel to use updated packages.\n"
     ]
    }
   ],
   "source": [
    "%pip install numpy\n",
    "%pip install uproot awkward\n",
    "%pip install boost-histogram\n",
    "%pip install vector\n",
    "%pip install numba\n",
    "%pip install mplhep\n"
   ]
  },
  {
   "cell_type": "code",
   "execution_count": null,
   "id": "bf0070e5-50ee-40ce-9ca4-d7405caa9857",
   "metadata": {},
   "outputs": [],
   "source": [
    "import uproot"
   ]
  }
 ],
 "metadata": {
  "kernelspec": {
   "display_name": "Python 3 (ipykernel)",
   "language": "python",
   "name": "python3"
  },
  "language_info": {
   "codemirror_mode": {
    "name": "ipython",
    "version": 3
   },
   "file_extension": ".py",
   "mimetype": "text/x-python",
   "name": "python",
   "nbconvert_exporter": "python",
   "pygments_lexer": "ipython3",
   "version": "3.8.16"
  }
 },
 "nbformat": 4,
 "nbformat_minor": 5
}
