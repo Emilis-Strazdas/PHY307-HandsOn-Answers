{
 "cells": [
  {
   "cell_type": "code",
   "execution_count": 1,
   "id": "c8ad2b6a-2857-48df-a280-780a649b2bc9",
   "metadata": {
    "tags": []
   },
   "outputs": [
    {
     "name": "stdout",
     "output_type": "stream",
     "text": [
      "Requirement already satisfied: numpy in /Users/Andrew/Library/jupyterlab-desktop/jlab_server/lib/python3.8/site-packages (1.24.2)\n",
      "Note: you may need to restart the kernel to use updated packages.\n",
      "Requirement already satisfied: uproot in /Users/Andrew/Library/jupyterlab-desktop/jlab_server/lib/python3.8/site-packages (5.0.4)\n",
      "Requirement already satisfied: awkward in /Users/Andrew/Library/jupyterlab-desktop/jlab_server/lib/python3.8/site-packages (2.1.0)\n",
      "Requirement already satisfied: numpy in /Users/Andrew/Library/jupyterlab-desktop/jlab_server/lib/python3.8/site-packages (from uproot) (1.24.2)\n",
      "Requirement already satisfied: packaging in /Users/Andrew/Library/jupyterlab-desktop/jlab_server/lib/python3.8/site-packages (from uproot) (23.0)\n",
      "Requirement already satisfied: typing-extensions>=4.1.0 in /Users/Andrew/Library/jupyterlab-desktop/jlab_server/lib/python3.8/site-packages (from awkward) (4.4.0)\n",
      "Requirement already satisfied: awkward-cpp==12 in /Users/Andrew/Library/jupyterlab-desktop/jlab_server/lib/python3.8/site-packages (from awkward) (12)\n",
      "Requirement already satisfied: importlib-resources in /Users/Andrew/Library/jupyterlab-desktop/jlab_server/lib/python3.8/site-packages (from awkward) (5.12.0)\n",
      "Requirement already satisfied: zipp>=3.1.0 in /Users/Andrew/Library/jupyterlab-desktop/jlab_server/lib/python3.8/site-packages (from importlib-resources->awkward) (3.14.0)\n",
      "Note: you may need to restart the kernel to use updated packages.\n",
      "Collecting boost-histogram\n",
      "  Downloading boost_histogram-1.3.2-cp38-cp38-macosx_10_9_x86_64.whl (1.5 MB)\n",
      "\u001b[2K     \u001b[90m━━━━━━━━━━━━━━━━━━━━━━━━━━━━━━━━━━━━━━━━\u001b[0m \u001b[32m1.5/1.5 MB\u001b[0m \u001b[31m4.2 MB/s\u001b[0m eta \u001b[36m0:00:00\u001b[0m00:01\u001b[0m00:01\u001b[0m\n",
      "\u001b[?25hRequirement already satisfied: numpy>=1.13.3 in /Users/Andrew/Library/jupyterlab-desktop/jlab_server/lib/python3.8/site-packages (from boost-histogram) (1.24.2)\n",
      "Installing collected packages: boost-histogram\n",
      "Successfully installed boost-histogram-1.3.2\n",
      "Note: you may need to restart the kernel to use updated packages.\n",
      "Requirement already satisfied: vector in /Users/Andrew/Library/jupyterlab-desktop/jlab_server/lib/python3.8/site-packages (1.0.0)\n",
      "Requirement already satisfied: numpy>=1.13.3 in /Users/Andrew/Library/jupyterlab-desktop/jlab_server/lib/python3.8/site-packages (from vector) (1.24.2)\n",
      "Requirement already satisfied: packaging>=19 in /Users/Andrew/Library/jupyterlab-desktop/jlab_server/lib/python3.8/site-packages (from vector) (23.0)\n",
      "Note: you may need to restart the kernel to use updated packages.\n",
      "Collecting numba\n",
      "  Downloading numba-0.57.0-cp38-cp38-macosx_10_9_x86_64.whl (2.5 MB)\n",
      "\u001b[2K     \u001b[90m━━━━━━━━━━━━━━━━━━━━━━━━━━━━━━━━━━━━━━━━\u001b[0m \u001b[32m2.5/2.5 MB\u001b[0m \u001b[31m4.6 MB/s\u001b[0m eta \u001b[36m0:00:00\u001b[0m00:01\u001b[0m00:01\u001b[0m0m\n",
      "\u001b[?25hRequirement already satisfied: importlib-metadata in /Users/Andrew/Library/jupyterlab-desktop/jlab_server/lib/python3.8/site-packages (from numba) (6.0.0)\n",
      "Requirement already satisfied: numpy<1.25,>=1.21 in /Users/Andrew/Library/jupyterlab-desktop/jlab_server/lib/python3.8/site-packages (from numba) (1.24.2)\n",
      "Collecting llvmlite<0.41,>=0.40.0dev0\n",
      "  Downloading llvmlite-0.40.0-cp38-cp38-macosx_10_9_x86_64.whl (30.4 MB)\n",
      "\u001b[2K     \u001b[90m━━━━━━━━━━━━━━━━━━━━━━━━━━━━━━━━━━━━━━━━\u001b[0m \u001b[32m30.4/30.4 MB\u001b[0m \u001b[31m8.6 MB/s\u001b[0m eta \u001b[36m0:00:00\u001b[0m00:01\u001b[0m00:01\u001b[0mm\n",
      "\u001b[?25hRequirement already satisfied: zipp>=0.5 in /Users/Andrew/Library/jupyterlab-desktop/jlab_server/lib/python3.8/site-packages (from importlib-metadata->numba) (3.14.0)\n",
      "Installing collected packages: llvmlite, numba\n",
      "Successfully installed llvmlite-0.40.0 numba-0.57.0\n",
      "Note: you may need to restart the kernel to use updated packages.\n",
      "Collecting mplhep\n",
      "  Using cached mplhep-0.3.28-py3-none-any.whl (36 kB)\n",
      "Collecting mplhep-data\n",
      "  Using cached mplhep_data-0.0.3-py3-none-any.whl (5.8 MB)\n",
      "Requirement already satisfied: matplotlib>=3.4 in /Users/Andrew/Library/jupyterlab-desktop/jlab_server/lib/python3.8/site-packages (from mplhep) (3.7.0)\n",
      "Requirement already satisfied: numpy>=1.16.0 in /Users/Andrew/Library/jupyterlab-desktop/jlab_server/lib/python3.8/site-packages (from mplhep) (1.24.2)\n",
      "Requirement already satisfied: packaging in /Users/Andrew/Library/jupyterlab-desktop/jlab_server/lib/python3.8/site-packages (from mplhep) (23.0)\n",
      "Collecting uhi>=0.2.0\n",
      "  Using cached uhi-0.3.3-py3-none-any.whl (11 kB)\n",
      "Requirement already satisfied: cycler>=0.10 in /Users/Andrew/Library/jupyterlab-desktop/jlab_server/lib/python3.8/site-packages (from matplotlib>=3.4->mplhep) (0.11.0)\n",
      "Requirement already satisfied: kiwisolver>=1.0.1 in /Users/Andrew/Library/jupyterlab-desktop/jlab_server/lib/python3.8/site-packages (from matplotlib>=3.4->mplhep) (1.4.4)\n",
      "Requirement already satisfied: pyparsing>=2.3.1 in /Users/Andrew/Library/jupyterlab-desktop/jlab_server/lib/python3.8/site-packages (from matplotlib>=3.4->mplhep) (3.0.9)\n",
      "Requirement already satisfied: importlib-resources>=3.2.0 in /Users/Andrew/Library/jupyterlab-desktop/jlab_server/lib/python3.8/site-packages (from matplotlib>=3.4->mplhep) (5.12.0)\n",
      "Requirement already satisfied: pillow>=6.2.0 in /Users/Andrew/Library/jupyterlab-desktop/jlab_server/lib/python3.8/site-packages (from matplotlib>=3.4->mplhep) (9.4.0)\n",
      "Requirement already satisfied: fonttools>=4.22.0 in /Users/Andrew/Library/jupyterlab-desktop/jlab_server/lib/python3.8/site-packages (from matplotlib>=3.4->mplhep) (4.38.0)\n",
      "Requirement already satisfied: python-dateutil>=2.7 in /Users/Andrew/Library/jupyterlab-desktop/jlab_server/lib/python3.8/site-packages (from matplotlib>=3.4->mplhep) (2.8.2)\n",
      "Requirement already satisfied: contourpy>=1.0.1 in /Users/Andrew/Library/jupyterlab-desktop/jlab_server/lib/python3.8/site-packages (from matplotlib>=3.4->mplhep) (1.0.7)\n",
      "Requirement already satisfied: zipp>=3.1.0 in /Users/Andrew/Library/jupyterlab-desktop/jlab_server/lib/python3.8/site-packages (from importlib-resources>=3.2.0->matplotlib>=3.4->mplhep) (3.14.0)\n",
      "Requirement already satisfied: six>=1.5 in /Users/Andrew/Library/jupyterlab-desktop/jlab_server/lib/python3.8/site-packages (from python-dateutil>=2.7->matplotlib>=3.4->mplhep) (1.16.0)\n",
      "Installing collected packages: uhi, mplhep-data, mplhep\n",
      "Successfully installed mplhep-0.3.28 mplhep-data-0.0.3 uhi-0.3.3\n",
      "Note: you may need to restart the kernel to use updated packages.\n"
     ]
    }
   ],
   "source": [
    "%pip install numpy\n",
    "%pip install uproot awkward\n",
    "%pip install boost-histogram\n",
    "%pip install vector\n",
    "%pip install numba\n",
    "%pip install mplhep\n"
   ]
  },
  {
   "cell_type": "code",
   "execution_count": null,
   "id": "bf0070e5-50ee-40ce-9ca4-d7405caa9857",
   "metadata": {},
   "outputs": [],
   "source": [
    "import uproot"
   ]
  }
 ],
 "metadata": {
  "kernelspec": {
   "display_name": "Python 3 (ipykernel)",
   "language": "python",
   "name": "python3"
  },
  "language_info": {
   "codemirror_mode": {
    "name": "ipython",
    "version": 3
   },
   "file_extension": ".py",
   "mimetype": "text/x-python",
   "name": "python",
   "nbconvert_exporter": "python",
   "pygments_lexer": "ipython3",
   "version": "3.8.16"
  }
 },
 "nbformat": 4,
 "nbformat_minor": 5
}
