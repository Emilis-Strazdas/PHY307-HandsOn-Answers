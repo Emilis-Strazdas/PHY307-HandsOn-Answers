{
 "cells": [
  {
   "attachments": {},
   "cell_type": "markdown",
   "metadata": {},
   "source": [
    "## PHY307 - data analysis exercise\n",
    "\n",
    "In this exercise we will analyze data recorded by the Compact muon Solenoid (CMS) experiment at the Large Hadron Collider (LHC).\n",
    "In 2012, after two years of data taking, the ATLAS and CMS experiments reported the observation of a new particle with a mass around 125 GeV, later established to be the Higgs boson. The Higgs boson, when produced in a high energy collision, decays almost immediately into other particles. One of the main decay channels used to establish the existence of the Higgs boson is the decay to a pair of Z bosons, which themselves decay to pairs of electrons or muons. This is a very clean signature, and one can see the visible peak in the four-lepton invariant mass distribution caused by the Higgs boson:\n",
    "\n",
    "<center><img src=\"figs/CMS-HIG-13-002_Figure_010.png\" width=\"500\"></center>\n",
    "\n",
    "This plot has a few key features that we will aim to reproduce:\n",
    "\n",
    " - The actual data is shown by the black markers - each point corresponds to the number of events observed with invariant mass in the given bin\n",
    " - The solid histograms are our expectation, derived using simulated events (\"Monte Carlo simulation\").\n",
    " - There are three histograms, stacked on top of each other, corresponding to three processes:\n",
    "   - In green, Z+X, the production of a single Z boson plus possible additional hadronic jets. This is a small background, and we will neglect it in this exercise.\n",
    "   - In blue, the ZZ background - this includes all the Feynman diagrams with the production of two Z bosons without involving the Higgs boson - this is going to be the main background process to our signal.\n",
    "   - In red, the Higgs boson signal according to the standard model predictions for a Higgs boson with a mass of 125 GeV.\n",
    "  \n",
    "An example Feynman diagram for the signal, and two possible diagrams for the ZZ background are given below:\n",
    "\n",
    "\n",
    "<center><img src=\"figs/FeynSig.png\" width=\"310\"><img src=\"figs/FeynBkg1.png\" width=\"220\"><img src=\"figs/FeynBkg2.png\" width=\"200\"></center>\n",
    "\n",
    "As we will see, the ZZ background is not the only one we have to worry about. It covers the contribution where all four leptons are what we call \"prompt\" - i.e. produced in isolation from the decay of a vector boson. There will also be a contribution from events with \"non-prompt\" leptons, either mis-identified \"fake\" leptons, or real leptons produced from semi-leptonic meson decays within \"jets\" of hadronic particles.\n",
    "\n",
    "*Throughout this notebook there are several places where you will need to answer questions, e.g. below:*"
   ]
  },
  {
   "attachments": {},
   "cell_type": "markdown",
   "metadata": {
    "tags": []
   },
   "source": [
    "Name: "
   ]
  },
  {
   "attachments": {},
   "cell_type": "markdown",
   "metadata": {},
   "source": [
    "We might first wonder why we choose to look at the Higgs boson decay to ZZ. The figure below shows the predicted Higgs boson branching fractions as a function of $m_{H}$. What is the approximate branching fraction for $H\\rightarrow ZZ$ at $m_{H} = 125\\,\\mathrm{GeV}$? Why is this still a preferable decay channel to look at, say compared to $H\\rightarrow bb$, which has the largest branching fraction at around 60%?\n",
    "\n",
    "<center><img src=\"figs/Higgs_BR_LM.png\" width=\"500\"></center>"
   ]
  },
  {
   "attachments": {},
   "cell_type": "markdown",
   "metadata": {},
   "source": [
    "Answer:"
   ]
  },
  {
   "attachments": {},
   "cell_type": "markdown",
   "metadata": {},
   "source": [
    "### A first look at the files\n",
    "\n",
    "Lets get started with some analysis. In this exercise we will focus on the case where both Z bosons decay to a pair of muons. The real data is containing in two files: `Run2012B_DoubleMuParked.root`, and `Run2012C_DoubleMuParked.root`. The simulated Higgs boson signal is in `SMHiggsToZZto4L.root`, and the simulated ZZ background is in `ZZTo4mu.root`. Start running the cells below to take a look into the structure of the signal file."
   ]
  },
  {
   "cell_type": "code",
   "execution_count": null,
   "metadata": {},
   "outputs": [],
   "source": [
    "# We start by importing some modules:\n",
    "import uproot  # reads the data in the binary .root files\n",
    "import awkward as ak  # provides \"ragged\" arrays for n-dimensional arrays with variables lengths\n",
    "import vector  # defines classes for manipulating, e.g. four-vectors\n",
    "import boost_histogram as bh # for filling hisograms\n",
    "import matplotlib.pyplot as plt  # for visualising histograms and other plots\n",
    "import numpy as np \n",
    "import numba # \"just-in-time\" compiling of complex functions\n",
    "import mplhep as hep\n",
    "plt.rcParams['figure.dpi'] = 100"
   ]
  },
  {
   "cell_type": "code",
   "execution_count": null,
   "metadata": {},
   "outputs": [],
   "source": [
    "# We load a data structure called a \"Tree\" into memory. We can think of this as set of labelled 2D arrays.\n",
    "# The rows correspond to separate proton-proton collision events, and the columns contain information about different objects in \n",
    "# each event, e.g. the properties of the reconstructed muons. Because there can be a variable number of objects per event,\n",
    "# many of the arrays are special \"jagged\" arrays.\n",
    "events = uproot.open(\"SMHiggsToZZTo4L.root:Events\")\n",
    "# First let's see a summary data stored in the tree\n",
    "events.show()"
   ]
  },
  {
   "cell_type": "code",
   "execution_count": null,
   "metadata": {},
   "outputs": [],
   "source": [
    "# Now let's read the data from the file\n",
    "branches = events.arrays()\n",
    "\n",
    "# We can look at the data for a single branch, the number of reconstructed muons in each event\n",
    "print(branches[\"nMuon\"])"
   ]
  },
  {
   "cell_type": "code",
   "execution_count": null,
   "metadata": {},
   "outputs": [],
   "source": [
    "# We see the first event had three muons, the second event had zero muons, etc.\n",
    "# We can also look at the properties of those muons, for example their transverse momenta:\n",
    "print(branches[\"Muon_pt\"])"
   ]
  },
  {
   "attachments": {},
   "cell_type": "markdown",
   "metadata": {},
   "source": [
    "We can see the three muons in the first event have transverse momenta of 63, 38.1 and 4.05 GeV, respectively.\n",
    "This is an example of a \"jagged array\" - a 2D array where there's a different number of entries in each row (reflecting the fact that there is a variable number of muons reconstructed in each event). Let's make a histogram of the muon pt for all muons in the sample."
   ]
  },
  {
   "cell_type": "code",
   "execution_count": null,
   "metadata": {
    "scrolled": true
   },
   "outputs": [],
   "source": [
    "plt.hist(ak.flatten(branches[\"Muon_pt\"]), bins=100, range=(0,100))\n",
    "# Here we have to first \"flatten\" the jagged Muon_pt array, i.e. transform an array like:\n",
    "# [ [1, 2], [3], [4, 5, 6] ] into [1, 2, 3, 4, 5, 6]\n",
    "plt.xlabel('Muon $p_{\\mathrm{T}}$ [GeV]')\n",
    "plt.ylabel('Number of muons')\n",
    "plt.yscale('log') # Some distributions will look better if we use a logarithmic y-axis scale\n",
    "plt.show()"
   ]
  },
  {
   "attachments": {},
   "cell_type": "markdown",
   "metadata": {},
   "source": [
    "### Object kinematics\n",
    "\n",
    "In our TTree we see that we have branches `Muon_pt`, `Muon_eta`, `Muon_phi` and `Muon_mass`. Together, these define the four-momenta for the muons. We use these variables instead of the usual $(E, p_{x}, p_{y}, p_{z})$ as they are more convenient for how we typically perform analysis. Here, eta is the pseudorapidity, and phi is the azimuthal angle, defined in the cylindrical geometry illustrated below:\n",
    "\n",
    "<center><img src=\"figs/coords.png\" width=\"500\"><img src=\"figs/eta.png\" width=\"300\"></center>\n",
    "\n",
    "The pseudorapidity ($\\eta$) is related to the polar angle defined with respect to the z-axis (the beam axis), as\n",
    "\n",
    "$$\n",
    "\\eta = -\\ln\\left[\\tan\\left(\\frac{\\theta}{2}\\right)\\right]\n",
    "$$\n",
    "\n",
    "which is illustrated in the above figure. The beams of colliding protons travel along the z-axis from the negative and positive directions, and collide at the origin of the coordinate system, at the center of the CMS detector (IP).\n",
    "\n",
    "Using the code for plotting the pT above as a template, write code in the next two cells to plot the muon pseudorapidity (eta) and azimuthal angle (phi). Plot these in linear y-axis scale."
   ]
  },
  {
   "cell_type": "code",
   "execution_count": null,
   "metadata": {},
   "outputs": [],
   "source": [
    "# Plot the muon eta here, use a range of -5, 5\n"
   ]
  },
  {
   "cell_type": "code",
   "execution_count": null,
   "metadata": {},
   "outputs": [],
   "source": [
    "# Plot the muon phi here, use a range of -3.2,3.2\n"
   ]
  },
  {
   "attachments": {},
   "cell_type": "markdown",
   "metadata": {},
   "source": [
    "Questions:\n",
    "\n",
    " 1) Considering the symmetries of the collision system, comment qualitatively on why one of these distributions is flat, and the other is not (but is approximately symmetric about zero)\n",
    " 2) You should find the eta distribution stops suddenly at particular values. By considering the layout of the detector (see figure below), comment on why this might be the case.\n",
    "\n",
    "<center><img src=\"figs/detector.jpg\" width=\"600\"></center>\n",
    " "
   ]
  },
  {
   "attachments": {},
   "cell_type": "markdown",
   "metadata": {},
   "source": [
    "Answers:\n",
    "\n",
    " 1. \n",
    "\n",
    " 2."
   ]
  },
  {
   "attachments": {},
   "cell_type": "markdown",
   "metadata": {},
   "source": [
    "### Invariant mass\n",
    "\n",
    "Given we are looking for evidence of a new particle decaying to four muons, it isn't surprising that the invariant mass of the four-muon system will be a particularly powerful discriminator. Given the pt, eta, phi and mass of each muon, you could code up some formulae to convert these to (E, px, py, pz) vectors, then perform a sum over the muons to give the four-momentum of the system, from which you could calculate the invariant mass. This would be rather tedious, however, so instead we will make use of the `vector` module we imported earlier, to group the (pt,eta,phi,mass) variables into four-momentum objects that give us a lot of useful functions, and the ability to do things like add two vectors together."
   ]
  },
  {
   "cell_type": "code",
   "execution_count": null,
   "metadata": {},
   "outputs": [],
   "source": [
    "# Special command that will allow merging the pt,eta,phi,mass branches into a four-vector object\n",
    "vector.register_awkward()\n",
    "\n",
    "# We'll structure this as a function so we can reuse it later\n",
    "def CalculateFourMuonMass(samples):\n",
    "\n",
    "    # In preparation for later code, we won't fill the histogram in one go, as we'll need to process\n",
    "    # rows (events) in batches. So first we define an empty histogram, with 100 bins from 115 to 135 GeV.\n",
    "    hist = bh.Histogram(bh.axis.Regular(100, 115, 135))\n",
    "\n",
    "    # We loop through the input files buffering up to 10 MB of events at a time\n",
    "    for branches in uproot.iterate(samples, step_size=\"10 MB\", filter_name=[\"Muon*\"]):\n",
    "        # Construct the four-momentum objects\n",
    "        muons = ak.zip({\n",
    "            \"pt\": branches[\"Muon_pt\"],\n",
    "            \"eta\": branches[\"Muon_eta\"],\n",
    "            \"phi\": branches[\"Muon_phi\"],\n",
    "            \"mass\": branches[\"Muon_mass\"]\n",
    "            }, with_name=\"Momentum4D\")\n",
    "        # muons is now an awkward array of four-momentum objects\n",
    "\n",
    "        # Filter out rows (events) that don't have exactly four muon objects\n",
    "        four_muon_events = muons[(ak.num(muons) == 4)]\n",
    "\n",
    "        # Now we sum over the four muons in the remaining events\n",
    "        # Remember, four_muon_events is a 2D array, and we want to operate on all rows, and select specific columns (muons)\n",
    "        # Therefore we use [rows, columns] = [:, 0] to select all events and the first muon\n",
    "        four_muon_system = four_muon_events[:, 0] + four_muon_events[:, 1] + four_muon_events[:, 2] + four_muon_events[:, 3]\n",
    "\n",
    "        # The four_muon_system is now a single four-vector object per event\n",
    "        print(four_muon_system)\n",
    "\n",
    "        hist.fill(four_muon_system.mass)\n",
    "\n",
    "    hep.histplot(hist, histtype=\"fill\", flow=\"none\")\n",
    "    plt.xlabel('Four-muon invariant mass [GeV]')\n",
    "    plt.ylabel('Events')\n",
    "    plt.show()\n",
    "\n",
    "CalculateFourMuonMass([\"SMHiggsToZZTo4L.root:Events\"])"
   ]
  },
  {
   "attachments": {},
   "cell_type": "markdown",
   "metadata": {},
   "source": [
    "Questions:\n",
    "\n",
    " 1) Is the shape of the distribution as you expected?\n",
    " 2) The Higgs boson, if produced, is predicted to decay extremely quickly, with a lifetime $\\tau = 1.56\\times 10^{-22}\\,\\mathrm{s}$. Given $\\hbar = 6.58 \\times 10^-16\\,\\mathrm{eV\\,s^{-1}}$, calculate the natural width in MeV.\n",
    " 3) What value do you get for the width estimated from the plot above (i.e. the width of the mass peak at half maximum). Note that adding `plt.grid(which=\"both\")` may help with this!\n",
    " 4) Comment on the difference between the two. What could be the reason for this? Could we use this analysis to test whether the Higgs boosn width is as predicted in the standard model?\n",
    "\n",
    " Bonus questions (finish everything else first!)\n",
    "\n",
    " 5) You will notice that the peak above is asymmetric, with a larger lower tail. What might be the origin of this \"missing mass\"?\n",
    " 6) Why is it important to try and constrain the Higgs boson width experimentally, i.e. what could it mean if we measured a value higher than expected?"
   ]
  },
  {
   "attachments": {},
   "cell_type": "markdown",
   "metadata": {},
   "source": [
    "Answers:\n",
    "\n",
    "1.\n",
    "\n",
    "2.\n",
    "\n",
    "3.\n",
    "\n",
    "4.\n",
    "\n",
    "Bonus:\n",
    "\n",
    "5.\n",
    "\n",
    "6."
   ]
  },
  {
   "attachments": {},
   "cell_type": "markdown",
   "metadata": {},
   "source": [
    "Now make the invariant mass plot for the background, using `ZZTo4mu.root`. This time, use 100 bins and a range from 0 to 200 GeV, and use a logarithmic y-axis scale. To do this, you could add input arguments to the `CalculateFourMuonMass` function above that allow the caller to specify the binning and whether or not log scale is used."
   ]
  },
  {
   "cell_type": "code",
   "execution_count": null,
   "metadata": {},
   "outputs": [],
   "source": [
    "# Extend the function above to take arguments for: the number of bins, the start of the range, the\n",
    "# end of the range, and a flag to toggle the use of the log-y scale\n",
    "# CalculateFourMuonMass(\"ZZTo4Mu.root:Events\", ...)"
   ]
  },
  {
   "attachments": {},
   "cell_type": "markdown",
   "metadata": {},
   "source": [
    "Question: This plot shows a lot of different features. Try to explain, qualitatively, as much as you can. For example, you should see a large peak at a certain mass value (think about the Feynman diagrams at the top of this notebook). Also consider whether one (or both) Z bosons are on mass shell (i.e. where $m_{\\mu\\mu} \\approx m_{Z}$)."
   ]
  },
  {
   "attachments": {},
   "cell_type": "markdown",
   "metadata": {},
   "source": [
    "Answer:"
   ]
  },
  {
   "attachments": {},
   "cell_type": "markdown",
   "metadata": {},
   "source": [
    "### Full $H\\rightarrow ZZ \\rightarrow 4\\mu$ reconstruction\n",
    "\n",
    "We are now ready to perform a full analysis. We will evaluate the four-muon invariant mass distribution for data, signal simulation and background simulation, and compare them on the same plot. We could just use the function defined above, but we can do better by first making sure the events we select are compatible with what we expect for the Higgs boson decay. \n",
    "\n",
    "We know there have to be four muons in total, but we also know that among these there should be two $\\mu^{+}\\mu^{-}$ pairs. We also know each pair should come from a Z boson - one pair from a Z boson that should be approximately on-shell, and one pair that has to be off-shell, with lower mass.\n",
    "\n",
    "The code below is a bit more sophisticated - it will build all possible opposite-charge muon pairs, and find the permutation that gives a pair with mass closest to $m_{Z}$, labelling this $Z1$, with the other pair labelled $Z2$. It will then fill three histograms, one with the four-muon mass, and two with the Z1 and Z2 pair masses."
   ]
  },
  {
   "cell_type": "code",
   "execution_count": null,
   "metadata": {},
   "outputs": [],
   "source": [
    "\n",
    "@numba.njit\n",
    "def find_4lep(events_leptons, builder):\n",
    "    \"\"\"Search for valid 4-lepton combinations from an array of events * leptons {charge, ...}\n",
    "\n",
    "    A valid candidate has two pairs of leptons that each have balanced charge\n",
    "    Outputs an array of events * candidates {indices 0..3} corresponding to all valid\n",
    "    permutations of all valid combinations of unique leptons in each event\n",
    "    (omitting permutations of the pairs)\n",
    "    \"\"\"\n",
    "    for leptons, lep_charge in zip(events_leptons, events_leptons.charge):\n",
    "        builder.begin_list()\n",
    "        nlep = len(leptons)\n",
    "        for i0 in range(nlep):\n",
    "            for i1 in range(i0 + 1, nlep):\n",
    "                if lep_charge[i0] + lep_charge[i1] != 0:\n",
    "                    continue\n",
    "                for i2 in range(nlep):\n",
    "                    for i3 in range(i2 + 1, nlep):\n",
    "                        if len({i0, i1, i2, i3}) < 4:\n",
    "                            continue\n",
    "                        if lep_charge[i2] + lep_charge[i3] != 0:\n",
    "                            continue\n",
    "                        builder.begin_tuple(4)\n",
    "                        builder.index(0).integer(i0)\n",
    "                        builder.index(1).integer(i1)\n",
    "                        builder.index(2).integer(i2)\n",
    "                        builder.index(3).integer(i3)\n",
    "                        builder.end_tuple()\n",
    "        builder.end_list()\n",
    "\n",
    "    return builder\n",
    "\n",
    "vector.register_awkward()\n",
    "\n",
    "def RunSamples(samples, apply_muon_id=False, apply_Z_mass=False, z1range=(0,10000), z2range=(0,10000)):\n",
    "    print(\"Running samples {}\".format(samples))\n",
    "    hists = {\n",
    "        \"m4l\": bh.Histogram(bh.axis.Regular(36, 70, 180)),\n",
    "        \"mz1\": bh.Histogram(bh.axis.Regular(40, 0, 160)),\n",
    "        \"mz2\": bh.Histogram(bh.axis.Regular(40, 0, 160)),\n",
    "        \"iso\":  bh.Histogram(bh.axis.Regular(60, 0, 5))\n",
    "    }\n",
    "\n",
    "    for branches in uproot.iterate(samples, step_size=\"10 MB\", filter_name=[\"Muon*\",\"event\"]):\n",
    "        branches = branches[ak.num(branches[\"Muon_pt\"]) == 4]\n",
    "\n",
    "        muons = ak.zip({\n",
    "            \"pt\": branches[\"Muon_pt\"],\n",
    "            \"eta\": branches[\"Muon_eta\"],\n",
    "            \"phi\": branches[\"Muon_phi\"],\n",
    "            \"mass\": branches[\"Muon_mass\"],\n",
    "            \"charge\": branches[\"Muon_charge\"],\n",
    "            \"pfRelIso04_all\": branches[\"Muon_pfRelIso04_all\"],\n",
    "            \"dxy\": branches[\"Muon_dxy\"],\n",
    "            \"dz\": branches[\"Muon_dz\"],\n",
    "            \"dxyErr\": branches[\"Muon_dxyErr\"],\n",
    "            \"dzErr\": branches[\"Muon_dzErr\"]\n",
    "            }, with_name=\"Momentum4D\")\n",
    "\n",
    "        muons[\"ip3d\"] = np.sqrt(muons.dxy * muons.dxy + muons.dz * muons.dz)\n",
    "        muons[\"sip3d\"] = muons.ip3d / np.sqrt(muons.dxyErr * muons.dxyErr + muons.dzErr * muons.dzErr)\n",
    "        if apply_muon_id:\n",
    "            muon_selection = (\n",
    "                    (muons.pt > 5) & (np.abs(muons.eta) < 2.4) & \n",
    "                    (np.abs(muons.pfRelIso04_all) < 0.4) & \n",
    "                    (muons.sip3d < 4) & (np.abs(muons.dxy) < 0.5) & (np.abs(muons.dz) < 1.0)\n",
    "                    )\n",
    "        else:\n",
    "            muon_selection = ((muons.pt > 5) & (np.abs(muons.eta) < 2.4))\n",
    "            \n",
    "        muons = muons[muon_selection]\n",
    "\n",
    "        hists[\"iso\"].fill(ak.flatten(muons.pfRelIso04_all))\n",
    "\n",
    "        muon_counts = (ak.num(muons) == 4) & (ak.num(muons[muons.charge == 1]) == 2) & (ak.num(muons[muons.charge == -1]) == 2)\n",
    "        muons = muons[muon_counts]\n",
    "\n",
    "        if (len(muons) == 0):\n",
    "            continue\n",
    "\n",
    "        fourmuon = find_4lep(muons, ak.ArrayBuilder()).snapshot()\n",
    "        fourmuon = [muons[fourmuon[idx]] for idx in \"0123\"]\n",
    "        fourmuon = ak.zip({\n",
    "            \"z1\": ak.zip({\n",
    "                \"lep1\": fourmuon[0],\n",
    "                \"lep2\": fourmuon[1],\n",
    "                \"p4\": fourmuon[0] + fourmuon[1],\n",
    "            }),\n",
    "            \"z2\": ak.zip({\n",
    "                \"lep1\": fourmuon[2],\n",
    "                \"lep2\": fourmuon[3],\n",
    "                \"p4\": fourmuon[2] + fourmuon[3],\n",
    "            }),\n",
    "        })\n",
    "\n",
    "        bestz1 = ak.singletons(ak.argmin(abs(fourmuon.z1.p4.mass - 91.1876), axis=1))\n",
    "        fourmuon = ak.flatten(fourmuon[bestz1])\n",
    "        if apply_Z_mass:\n",
    "            fourmuon_sel = (fourmuon.z1.p4.mass > z1range[0]) & (fourmuon.z1.p4.mass < z1range[1]) & (fourmuon.z2.p4.mass > z2range[0]) & (fourmuon.z2.p4.mass < z2range[1]) & (fourmuon.z1.lep1.deltaR(fourmuon.z1.lep2) > 0.02) & (fourmuon.z2.lep1.deltaR(fourmuon.z2.lep2) > 0.02)\n",
    "        else:\n",
    "            fourmuon_sel = (fourmuon.z1.lep1.deltaR(fourmuon.z1.lep2) > 0.02) & (fourmuon.z2.lep1.deltaR(fourmuon.z2.lep2) > 0.02)\n",
    "\n",
    "        fourmuon = fourmuon[fourmuon_sel]\n",
    "\n",
    "        hists[\"m4l\"].fill((fourmuon.z1.p4 + fourmuon.z2.p4).mass)\n",
    "        hists[\"mz1\"].fill(fourmuon.z1.p4.mass)\n",
    "        hists[\"mz2\"].fill(fourmuon.z2.p4.mass)\n",
    "    return hists\n",
    "\n",
    "h_data = RunSamples([\"Run2012B_DoubleMuParked.root:Events\", \"Run2012C_DoubleMuParked.root:Events\"])\n",
    "h_bkg = RunSamples([\"ZZTo4mu.root:Events\"])\n",
    "h_sig = RunSamples([\"SMHiggsToZZTo4L.root:Events\"])"
   ]
  },
  {
   "attachments": {},
   "cell_type": "markdown",
   "metadata": {},
   "source": [
    "When the code above has finished running (it may take a few minutes), we can plot comparisons of $m_{Z1}$ and $m_{Z2}$ between data (which we assume is dominated by background events) and the signal simulation. The function in the next cell can make such a plot - it will normalize `hist1` and `hist2` to unit area, so that we compare just the shapes."
   ]
  },
  {
   "cell_type": "code",
   "execution_count": null,
   "metadata": {},
   "outputs": [],
   "source": [
    "def PlotShapeComparison(hist1, hist2, label1, label2, xlabel):\n",
    "    hep.style.use(\"CMS\")\n",
    "    fig, ax = plt.subplots()\n",
    "    hep.histplot(\n",
    "        [hist1 * (1. / hist1.sum()), hist2 * (1. / hist2.sum())],\n",
    "        stack=False,\n",
    "        histtype=\"step\",\n",
    "        color=[\"black\", \"red\"],\n",
    "        alpha=[1, 1],\n",
    "        label=[label1, label2],\n",
    "        ax=ax,\n",
    "        flow=\"none\",\n",
    "        linestyle=\"solid\",\n",
    "        binwnorm=1\n",
    "    )\n",
    "\n",
    "    hep.cms.text(\"Private Work\")\n",
    "    hep.cms.lumitext(r\"$11.6\\,fb^{-1}$ (8 TeV)\")\n",
    "    ax.legend()\n",
    "    ax.set_xlabel(xlabel, fontsize=25)\n",
    "    ax.set_ylabel(\"Events\\n\", fontsize=25)\n",
    "    fig.show()\n",
    "\n",
    "PlotShapeComparison(h_data[\"mz1\"], h_sig[\"mz1\"], r\"Data\", r\"H(125)$ \\rightarrow ZZ^{*}$\", r\"$m_{Z1}$ (GeV)\")\n",
    "PlotShapeComparison(h_data[\"mz2\"], h_sig[\"mz2\"], r\"Data\", r\"H(125)$ \\rightarrow ZZ^{*}$\", r\"$m_{Z2}$ (GeV)\")"
   ]
  },
  {
   "attachments": {},
   "cell_type": "markdown",
   "metadata": {},
   "source": [
    "You should have found that there are quite large differences between the data and signal distributions. This motivates adding selections (\"cuts\") on these variables, to improve the signal-to-background ratio. Below we will run the analysis again, this time adding upper and lower bounds on $m_{Z1}$ and $m_{Z2}$, that you should choose based on the plots above. The idea is to find values that are a good trade-off between maintaining a high signal efficiency while rejecting as much background as possible."
   ]
  },
  {
   "cell_type": "code",
   "execution_count": null,
   "metadata": {},
   "outputs": [],
   "source": [
    "# Replace with your chosen values below\n",
    "z1min = 0.\n",
    "z1max = 10000.\n",
    "z2min = 0.\n",
    "z2max = 10000.\n",
    "\n",
    "# Now we run the analysis again, adding the Z1 and Z2 mass cuts above\n",
    "h_data = RunSamples([\"Run2012B_DoubleMuParked.root:Events\", \"Run2012C_DoubleMuParked.root:Events\"],\n",
    "                    apply_Z_mass=True, z1range=(z1min, z1max), z2range=(z2min, z2max))\n",
    "h_bkg = RunSamples([\"ZZTo4mu.root:Events\"],\n",
    "                    apply_Z_mass=True, z1range=(z1min, z1max), z2range=(z2min, z2max))\n",
    "h_sig = RunSamples([\"SMHiggsToZZTo4L.root:Events\"],\n",
    "                    apply_Z_mass=True, z1range=(z1min, z1max), z2range=(z2min, z2max))\n",
    "\n",
    "# Check that our cuts have the desired effect.\n",
    "PlotShapeComparison(h_data[\"mz1\"], h_sig[\"mz1\"], r\"Data\", r\"H(125)$ \\rightarrow ZZ^{*}$\", r\"$m_{Z1}$ (GeV)\")\n",
    "PlotShapeComparison(h_data[\"mz2\"], h_sig[\"mz2\"], r\"Data\", r\"H(125)$ \\rightarrow ZZ^{*}$\", r\"$m_{Z2}$ (GeV)\")"
   ]
  },
  {
   "attachments": {},
   "cell_type": "markdown",
   "metadata": {},
   "source": [
    "## Data/Simulation comparison\n",
    "\n",
    "We're now nearly at the stage where we can compare data and simulation directly. What we need to do first is derive scaling factors for our signal and background histograms, such that they correspond to the number of events we expect in data. (Right now, their normalizations are arbitrary - the just depend on how many events we decided to generate). The number we use to quantify the \"amount\" of the data we have analyzed is called the integrated luminosity, $L$. If we know the cross section for a particular process, $\\sigma$, then the number of events of that process we should see in the data is simply $N = L\\sigma$. Given this, you should be able to complete the code below to calculate appropriate factors."
   ]
  },
  {
   "cell_type": "code",
   "execution_count": null,
   "metadata": {},
   "outputs": [],
   "source": [
    "cross_section_bkg = 0.106722 # pb\n",
    "num_events_bkg = 1499064.0\n",
    "cross_section_sig = 0.0065 # pb\n",
    "num_events_sig = 299973.0\n",
    "lumi_data = 11.58 * 1000.0 # 11.58 fb-1 -> pb-1\n",
    "\n",
    "# Modify the lines below to scale factors to apply to the signal and background histograms\n",
    "# You want to calculate the ratio lumi_data / lumi_sample, where lumi_sample can be calculated from \n",
    "# the cross section for the process and the number of events that were generated\n",
    "scale_factor_bkg = 1.\n",
    "scale_factor_sig = 1."
   ]
  },
  {
   "attachments": {},
   "cell_type": "markdown",
   "metadata": {},
   "source": [
    "Once that's done, you can run the cell below to make a plot of the four-muon invariant mass. As you will hopefully see, we need to enable log-scale on the y-axis here. "
   ]
  },
  {
   "cell_type": "code",
   "execution_count": null,
   "metadata": {},
   "outputs": [],
   "source": [
    "hep.style.use(\"CMS\")\n",
    "\n",
    "def PlotDataSimComparison(hist_data, hist_sig, hist_bkg, scale_sig=1.0, scale_bkg=1.0, logy=False):\n",
    "   fig, ax = plt.subplots(figsize=(8,8))\n",
    "   draw=\"m4l\"\n",
    "   hep.histplot(\n",
    "      [hist_bkg * scale_bkg, hist_sig * scale_sig],\n",
    "      stack=True,\n",
    "      histtype=\"fill\",\n",
    "      color=[\"skyblue\", \"red\"],\n",
    "      alpha=[1, 1],\n",
    "      label=[\n",
    "         r\"$q\\bar{q}\\rightarrow ZZ$\",\n",
    "         r\"H(125)$ \\rightarrow ZZ^{*}$\",\n",
    "      ],\n",
    "      ax=ax,\n",
    "      flow=\"none\",\n",
    "      linestyle=\"solid\"\n",
    "   )\n",
    "\n",
    "   ax.errorbar(\n",
    "      hist_data.axes[0].centers,\n",
    "      hist_data.values(),\n",
    "      xerr=hist_data.axes[0].widths / 2.,\n",
    "      yerr=np.sqrt(hist_data.values()),\n",
    "      linestyle=\"None\",\n",
    "      color=\"black\",\n",
    "      marker=\"o\",\n",
    "      label=\"Data\"\n",
    "   )\n",
    "   hep.cms.text(\"Private Work\")\n",
    "   hep.cms.lumitext(r\"$11.6\\,fb^{-1}$ (8 TeV)\")\n",
    "   ax.legend()\n",
    "   ax.set_xlabel(r\"4$\\mu$ invariant mass (GeV)\", fontsize=25)\n",
    "   ax.set_ylabel(\"Events\\n\", fontsize=25)\n",
    "   if logy:\n",
    "      plt.yscale('log')\n",
    "   fig.show()\n",
    "\n",
    "PlotDataSimComparison(h_data[\"m4l\"], h_sig[\"m4l\"], h_bkg[\"m4l\"], scale_sig=scale_factor_sig, scale_bkg=scale_factor_bkg, logy=True)"
   ]
  },
  {
   "attachments": {},
   "cell_type": "markdown",
   "metadata": {},
   "source": [
    "You should see that the data is significantly higher than both the signal and background. As hinted at the start, there is another source of background for which we don't have a sample of simulated events. These are events where the muons are non-prompt. The proton-proton collisions of the LHC are extremely dominated by strong force interactions, and collisions producing jets of particles from the hadronization of quarks and gluons occur at a much higher rate than electroweak processes such as Higgs boson and ZZ production. What we are seeing here are mostly muons being produced from the semi-leptonic decays of mesons within these jets. Luckily, we have have a way of mostly removing this background: isolation. A key difference is that these muons are typically accompanied by other nearby particles in the jet, as in the sketch below. \n",
    "\n",
    "<center><img src=\"figs/iso.png\" width=\"300\" ></center>\n",
    "\n",
    "We can use an isolation variable computed as the sum of energy close to the muon, divided by its pT. The resulting value should be close to zero for a prompt isolated muon, and larger for non-prompt background muons. Let's compare the shapes of this variable."
   ]
  },
  {
   "cell_type": "code",
   "execution_count": null,
   "metadata": {},
   "outputs": [],
   "source": [
    "PlotShapeComparison(h_data[\"iso\"], h_sig[\"iso\"], r\"Data\", r\"H(125)$ \\rightarrow ZZ^{*}$\", r\"Relative isolation\")"
   ]
  },
  {
   "attachments": {},
   "cell_type": "markdown",
   "metadata": {},
   "source": [
    "As we can see, the muons in data are predominantly having large isolation values. Let's run the analysis again, this time adding a cut on the muon relative isolation < 0.4 (by setting the `apply_muon_id` flag to `True`)."
   ]
  },
  {
   "cell_type": "code",
   "execution_count": null,
   "metadata": {},
   "outputs": [],
   "source": [
    "h_data = RunSamples([\"Run2012B_DoubleMuParked.root:Events\", \"Run2012C_DoubleMuParked.root:Events\"],\n",
    "                    apply_muon_id=True, apply_Z_mass=True, z1range=(z1min, z1max), z2range=(z2min, z2max))\n",
    "h_bkg = RunSamples([\"ZZTo4mu.root:Events\"],\n",
    "                    apply_muon_id=True, apply_Z_mass=True, z1range=(z1min, z1max), z2range=(z2min, z2max))\n",
    "h_sig = RunSamples([\"SMHiggsToZZTo4L.root:Events\"],\n",
    "                    apply_muon_id=True, apply_Z_mass=True, z1range=(z1min, z1max), z2range=(z2min, z2max))\n",
    "\n",
    "PlotDataSimComparison(h_data[\"m4l\"], h_sig[\"m4l\"], h_bkg[\"m4l\"], scale_sig=scale_factor_sig, scale_bkg=scale_factor_bkg, logy=False)"
   ]
  },
  {
   "attachments": {},
   "cell_type": "markdown",
   "metadata": {},
   "source": [
    "That should look a lot better! We've suppressed the non-prompt background to a negligible level. We should see that the number of events surviving our cuts is relatively small, but the expected contribution from the signal is quite clearly visible. \n",
    "\n",
    "Question: So, do we have evidence for the Higgs boson based on the distribution above? More precisely, if we integrate the yields over the two bins where most of the signal is expected, with what probability would we see at least the number of observed events under the background-only hypothesis. We can assume the number of observed events follows a Poisson distribution."
   ]
  },
  {
   "attachments": {},
   "cell_type": "markdown",
   "metadata": {},
   "source": [
    "Answer:"
   ]
  },
  {
   "attachments": {},
   "cell_type": "markdown",
   "metadata": {},
   "source": [
    "You should find that with the limited number of events we have here, the observation is quite compatible with both the signal+background and the background-only hypotheses, so we can't conclude the Higgs boson is present in our data. What could we do to improve the situation? Firstly, analyze more data - improve the statistical power of our measurement. Here we have only used a small fraction of the data delivered by the LHC. We should also consider Z boson decays to electron-positron pairs, and include the $ZZ \\rightarrow 2e2\\mu$ and $ZZ \\rightarrow 4e$ channels (bonus question: what about $Z \\rightarrow \\tau\\tau$ decays?). On top of that, we can also improve the signal-to-background ratio by further optimizing the analysis selection, and by constructing more powerful (multivariate) discriminators.\n",
    "\n",
    "**Well done, you've reached the end of the exercise!**"
   ]
  }
 ],
 "metadata": {
  "kernelspec": {
   "display_name": "Python 3 (ipykernel)",
   "language": "python",
   "name": "python3"
  },
  "language_info": {
   "codemirror_mode": {
    "name": "ipython",
    "version": 3
   },
   "file_extension": ".py",
   "mimetype": "text/x-python",
   "name": "python",
   "nbconvert_exporter": "python",
   "pygments_lexer": "ipython3",
   "version": "3.8.16"
  }
 },
 "nbformat": 4,
 "nbformat_minor": 4
}
