{
 "cells": [
  {
   "cell_type": "code",
   "execution_count": 1,
   "metadata": {},
   "outputs": [
    {
     "ename": "NameError",
     "evalue": "name 'matplotlib' is not defined",
     "output_type": "error",
     "traceback": [
      "\u001b[0;31m---------------------------------------------------------------------------\u001b[0m",
      "\u001b[0;31mNameError\u001b[0m                                 Traceback (most recent call last)",
      "Cell \u001b[0;32mIn[1], line 7\u001b[0m\n\u001b[1;32m      5\u001b[0m \u001b[39mimport\u001b[39;00m \u001b[39mboost_histogram\u001b[39;00m \u001b[39mas\u001b[39;00m \u001b[39mbh\u001b[39;00m \u001b[39m# for filling hisograms\u001b[39;00m\n\u001b[1;32m      6\u001b[0m \u001b[39mimport\u001b[39;00m \u001b[39mmatplotlib\u001b[39;00m\u001b[39m.\u001b[39;00m\u001b[39mpyplot\u001b[39;00m \u001b[39mas\u001b[39;00m \u001b[39mplt\u001b[39;00m  \u001b[39m# for visualising histograms and other plots\u001b[39;00m\n\u001b[0;32m----> 7\u001b[0m matplotlib\u001b[39m.\u001b[39mrcParams[\u001b[39m'\u001b[39m\u001b[39mfigure.dpi\u001b[39m\u001b[39m'\u001b[39m] \u001b[39m=\u001b[39m \u001b[39m300\u001b[39m\n",
      "\u001b[0;31mNameError\u001b[0m: name 'matplotlib' is not defined"
     ]
    }
   ],
   "source": [
    "# We start by importing some modules:\n",
    "import uproot  # reads the data in the binary .root files\n",
    "import awkward as ak  # provides \"ragged\" arrays for n-dimensional arrays with variables lengths\n",
    "import vector  # defines classes for manipulating, e.g. four-vectors\n",
    "import boost_histogram as bh # for filling hisograms\n",
    "import matplotlib\n",
    "import matplotlib.pyplot as plt  # for visualising histograms and other plots\n",
    "matplotlib.rcParams['figure.dpi'] = 300"
   ]
  },
  {
   "cell_type": "code",
   "execution_count": null,
   "metadata": {},
   "outputs": [],
   "source": [
    "# Open a root file. Each file contains a set of objects, in this case we want to open a \"TTree\" object\n",
    "# called \"Events\". A TTree is like a table of data, where each row corresponds to the data of a single\n",
    "# proton-proton collision event, and each column (often called a \"branch\") contains a different piece\n",
    "# of information about that event.\n",
    "events = uproot.open(\"SMHiggsToZZTo4L.root:Events\")\n",
    "# We can take a look at the layout of the data in the TTree\n",
    "events.show()"
   ]
  },
  {
   "cell_type": "code",
   "execution_count": null,
   "metadata": {},
   "outputs": [],
   "source": [
    "# Now let's read the data from the file\n",
    "branches = events.arrays()\n",
    "\n",
    "# We can look at the data for a single branch, the number of reconstructed muons in each event\n",
    "print(branches[\"nMuon\"])"
   ]
  },
  {
   "cell_type": "code",
   "execution_count": null,
   "metadata": {},
   "outputs": [],
   "source": [
    "# We see the first event had three muons, the second event had zero muons, etc.\n",
    "# We can also look at the properties of those muons, for example their transverse momenta:\n",
    "print(branches[\"Muon_pt\"])"
   ]
  },
  {
   "attachments": {},
   "cell_type": "markdown",
   "metadata": {},
   "source": [
    "We can see the three muons in the first event have transverse momenta of 63, 38.1 and 4.05 GeV, respectively.\n",
    "This is an example of a \"jagged array\" - a 2D array where there's a different number of entries in each row (reflecting the fact that there is a variable number of muons reconstructed in each event)."
   ]
  },
  {
   "cell_type": "code",
   "execution_count": null,
   "metadata": {},
   "outputs": [],
   "source": [
    "plt.hist(branches[\"nMuon\"])\n",
    "plt.xlabel('Number of muons')\n",
    "plt.ylabel('Events')\n",
    "plt.show()"
   ]
  },
  {
   "cell_type": "code",
   "execution_count": null,
   "metadata": {},
   "outputs": [],
   "source": [
    "# Some distributions will look better if we use a logarithmic y-axis scale:\n",
    "plt.hist(ak.flatten(branches[\"Muon_pt\"]), bins=50, range=(0,200))\n",
    "# Here we have to first \"flatten\" the jagged Muon_pt array, i.e. transform an array like:\n",
    "# [ [1, 2], [3], [4, 5, 6] ] into [1, 2, 3, 4, 5, 6]\n",
    "plt.xlabel('Muon $p_{\\mathrm{T}}$ [GeV]')\n",
    "plt.ylabel('Events')\n",
    "plt.yscale('log')\n",
    "plt.show()\n"
   ]
  },
  {
   "attachments": {},
   "cell_type": "markdown",
   "metadata": {},
   "source": [
    "We will find it easier to interact with the muons by treating them as four-momenta. You might be used to seeing four-momenta vectors specified as $(E, p_{x}, p_{y}, p_{z})$. In our TTree we see that we have branches `Muon_pt`, `Muon_eta`, `Muon_phi` and `Muon_mass`. In fact the two sets of variables contain indentical information, the latter are just more convenient from how we typically perform analysis.\n",
    "\n",
    "We can make use of the `vector` package to group these four variables into four-momentum objects that give us a lot of useful functions, and the ability to do things like add two vectors together."
   ]
  },
  {
   "cell_type": "code",
   "execution_count": null,
   "metadata": {},
   "outputs": [],
   "source": [
    "muon_p4 = vector.zip({'pt': branches['Muon_pt'], 'eta': branches['Muon_eta'], 'phi': branches['Muon_phi'], 'mass': branches['Muon_mass']})\n",
    "plt.hist(ak.flatten(muon_p4.theta)) # the vector class will take care of calculating the theta angle as a function of the inputs\n",
    "plt.show()"
   ]
  },
  {
   "cell_type": "code",
   "execution_count": null,
   "metadata": {},
   "outputs": [],
   "source": [
    "# We can also apply selections on the events - for \n",
    "four_muons_p4 = muon_p4[branches['nMuon'] == 4]\n",
    "higgs_cand = four_muons_p4[:, 0] + four_muons_p4[:, 1] + four_muons_p4[:, 2] + four_muons_p4[:, 3]\n",
    "plt.hist(higgs_cand.mass, bins=50, range=(100,150))\n",
    "plt.show()"
   ]
  },
  {
   "cell_type": "code",
   "execution_count": null,
   "metadata": {},
   "outputs": [],
   "source": []
  }
 ],
 "metadata": {
  "kernelspec": {
   "display_name": "Python 3 (ipykernel)",
   "language": "python",
   "name": "python3"
  },
  "language_info": {
   "codemirror_mode": {
    "name": "ipython",
    "version": 3
   },
   "file_extension": ".py",
   "mimetype": "text/x-python",
   "name": "python",
   "nbconvert_exporter": "python",
   "pygments_lexer": "ipython3",
   "version": "3.9.6"
  }
 },
 "nbformat": 4,
 "nbformat_minor": 4
}
